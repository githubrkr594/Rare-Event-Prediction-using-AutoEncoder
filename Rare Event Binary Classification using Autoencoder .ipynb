{
 "cells": [
  {
   "cell_type": "markdown",
   "metadata": {},
   "source": [
    "Rare Event Binary Classification using Autoencoder "
   ]
  },
  {
   "cell_type": "code",
   "execution_count": 23,
   "metadata": {},
   "outputs": [],
   "source": [
    "import pandas as pd\n",
    "import numpy as np\n",
    "import matplotlib.pyplot as plt"
   ]
  },
  {
   "cell_type": "code",
   "execution_count": 3,
   "metadata": {},
   "outputs": [
    {
     "data": {
      "text/html": [
       "<div>\n",
       "<style scoped>\n",
       "    .dataframe tbody tr th:only-of-type {\n",
       "        vertical-align: middle;\n",
       "    }\n",
       "\n",
       "    .dataframe tbody tr th {\n",
       "        vertical-align: top;\n",
       "    }\n",
       "\n",
       "    .dataframe thead th {\n",
       "        text-align: right;\n",
       "    }\n",
       "</style>\n",
       "<table border=\"1\" class=\"dataframe\">\n",
       "  <thead>\n",
       "    <tr style=\"text-align: right;\">\n",
       "      <th></th>\n",
       "      <th>time</th>\n",
       "      <th>y</th>\n",
       "      <th>x1</th>\n",
       "      <th>x2</th>\n",
       "      <th>x3</th>\n",
       "      <th>x4</th>\n",
       "      <th>x5</th>\n",
       "      <th>x6</th>\n",
       "      <th>x7</th>\n",
       "      <th>x8</th>\n",
       "      <th>...</th>\n",
       "      <th>x52</th>\n",
       "      <th>x53</th>\n",
       "      <th>x54</th>\n",
       "      <th>x55</th>\n",
       "      <th>x56</th>\n",
       "      <th>x57</th>\n",
       "      <th>x58</th>\n",
       "      <th>x59</th>\n",
       "      <th>x60</th>\n",
       "      <th>x61</th>\n",
       "    </tr>\n",
       "  </thead>\n",
       "  <tbody>\n",
       "    <tr>\n",
       "      <th>0</th>\n",
       "      <td>5/1/99 0:00</td>\n",
       "      <td>0</td>\n",
       "      <td>0.376665</td>\n",
       "      <td>-4.596435</td>\n",
       "      <td>-4.095756</td>\n",
       "      <td>13.497687</td>\n",
       "      <td>-0.118830</td>\n",
       "      <td>-20.669883</td>\n",
       "      <td>0.000732</td>\n",
       "      <td>-0.061114</td>\n",
       "      <td>...</td>\n",
       "      <td>10.091721</td>\n",
       "      <td>0.053279</td>\n",
       "      <td>-4.936434</td>\n",
       "      <td>-24.590146</td>\n",
       "      <td>18.515436</td>\n",
       "      <td>3.473400</td>\n",
       "      <td>0.033444</td>\n",
       "      <td>0.953219</td>\n",
       "      <td>0.006076</td>\n",
       "      <td>0</td>\n",
       "    </tr>\n",
       "    <tr>\n",
       "      <th>1</th>\n",
       "      <td>5/1/99 0:02</td>\n",
       "      <td>0</td>\n",
       "      <td>0.475720</td>\n",
       "      <td>-4.542502</td>\n",
       "      <td>-4.018359</td>\n",
       "      <td>16.230659</td>\n",
       "      <td>-0.128733</td>\n",
       "      <td>-18.758079</td>\n",
       "      <td>0.000732</td>\n",
       "      <td>-0.061114</td>\n",
       "      <td>...</td>\n",
       "      <td>10.095871</td>\n",
       "      <td>0.062801</td>\n",
       "      <td>-4.937179</td>\n",
       "      <td>-32.413266</td>\n",
       "      <td>22.760065</td>\n",
       "      <td>2.682933</td>\n",
       "      <td>0.033536</td>\n",
       "      <td>1.090502</td>\n",
       "      <td>0.006083</td>\n",
       "      <td>0</td>\n",
       "    </tr>\n",
       "    <tr>\n",
       "      <th>2</th>\n",
       "      <td>5/1/99 0:04</td>\n",
       "      <td>0</td>\n",
       "      <td>0.363848</td>\n",
       "      <td>-4.681394</td>\n",
       "      <td>-4.353147</td>\n",
       "      <td>14.127998</td>\n",
       "      <td>-0.138636</td>\n",
       "      <td>-17.836632</td>\n",
       "      <td>0.010803</td>\n",
       "      <td>-0.061114</td>\n",
       "      <td>...</td>\n",
       "      <td>10.100265</td>\n",
       "      <td>0.072322</td>\n",
       "      <td>-4.937924</td>\n",
       "      <td>-34.183774</td>\n",
       "      <td>27.004663</td>\n",
       "      <td>3.537487</td>\n",
       "      <td>0.033629</td>\n",
       "      <td>1.840540</td>\n",
       "      <td>0.006090</td>\n",
       "      <td>0</td>\n",
       "    </tr>\n",
       "    <tr>\n",
       "      <th>3</th>\n",
       "      <td>5/1/99 0:06</td>\n",
       "      <td>0</td>\n",
       "      <td>0.301590</td>\n",
       "      <td>-4.758934</td>\n",
       "      <td>-4.023612</td>\n",
       "      <td>13.161567</td>\n",
       "      <td>-0.148142</td>\n",
       "      <td>-18.517601</td>\n",
       "      <td>0.002075</td>\n",
       "      <td>-0.061114</td>\n",
       "      <td>...</td>\n",
       "      <td>10.104660</td>\n",
       "      <td>0.081600</td>\n",
       "      <td>-4.938669</td>\n",
       "      <td>-35.954281</td>\n",
       "      <td>21.672449</td>\n",
       "      <td>3.986095</td>\n",
       "      <td>0.033721</td>\n",
       "      <td>2.554880</td>\n",
       "      <td>0.006097</td>\n",
       "      <td>0</td>\n",
       "    </tr>\n",
       "    <tr>\n",
       "      <th>4</th>\n",
       "      <td>5/1/99 0:08</td>\n",
       "      <td>0</td>\n",
       "      <td>0.265578</td>\n",
       "      <td>-4.749928</td>\n",
       "      <td>-4.333150</td>\n",
       "      <td>15.267340</td>\n",
       "      <td>-0.155314</td>\n",
       "      <td>-17.505913</td>\n",
       "      <td>0.000732</td>\n",
       "      <td>-0.061114</td>\n",
       "      <td>...</td>\n",
       "      <td>10.109054</td>\n",
       "      <td>0.091121</td>\n",
       "      <td>-4.939414</td>\n",
       "      <td>-37.724789</td>\n",
       "      <td>21.907251</td>\n",
       "      <td>3.601573</td>\n",
       "      <td>0.033777</td>\n",
       "      <td>1.410494</td>\n",
       "      <td>0.006105</td>\n",
       "      <td>0</td>\n",
       "    </tr>\n",
       "  </tbody>\n",
       "</table>\n",
       "<p>5 rows × 63 columns</p>\n",
       "</div>"
      ],
      "text/plain": [
       "          time  y        x1        x2        x3         x4        x5  \\\n",
       "0  5/1/99 0:00  0  0.376665 -4.596435 -4.095756  13.497687 -0.118830   \n",
       "1  5/1/99 0:02  0  0.475720 -4.542502 -4.018359  16.230659 -0.128733   \n",
       "2  5/1/99 0:04  0  0.363848 -4.681394 -4.353147  14.127998 -0.138636   \n",
       "3  5/1/99 0:06  0  0.301590 -4.758934 -4.023612  13.161567 -0.148142   \n",
       "4  5/1/99 0:08  0  0.265578 -4.749928 -4.333150  15.267340 -0.155314   \n",
       "\n",
       "          x6        x7        x8 ...         x52       x53       x54  \\\n",
       "0 -20.669883  0.000732 -0.061114 ...   10.091721  0.053279 -4.936434   \n",
       "1 -18.758079  0.000732 -0.061114 ...   10.095871  0.062801 -4.937179   \n",
       "2 -17.836632  0.010803 -0.061114 ...   10.100265  0.072322 -4.937924   \n",
       "3 -18.517601  0.002075 -0.061114 ...   10.104660  0.081600 -4.938669   \n",
       "4 -17.505913  0.000732 -0.061114 ...   10.109054  0.091121 -4.939414   \n",
       "\n",
       "         x55        x56       x57       x58       x59       x60  x61  \n",
       "0 -24.590146  18.515436  3.473400  0.033444  0.953219  0.006076    0  \n",
       "1 -32.413266  22.760065  2.682933  0.033536  1.090502  0.006083    0  \n",
       "2 -34.183774  27.004663  3.537487  0.033629  1.840540  0.006090    0  \n",
       "3 -35.954281  21.672449  3.986095  0.033721  2.554880  0.006097    0  \n",
       "4 -37.724789  21.907251  3.601573  0.033777  1.410494  0.006105    0  \n",
       "\n",
       "[5 rows x 63 columns]"
      ]
     },
     "execution_count": 3,
     "metadata": {},
     "output_type": "execute_result"
    }
   ],
   "source": [
    "df = pd.read_csv('processminer-rare-event-mts - data.csv')\n",
    "df.head()"
   ]
  },
  {
   "cell_type": "code",
   "execution_count": 4,
   "metadata": {},
   "outputs": [
    {
     "data": {
      "text/plain": [
       "(18398, 63)"
      ]
     },
     "metadata": {},
     "output_type": "display_data"
    },
    {
     "data": {
      "text/plain": [
       "(124,)"
      ]
     },
     "metadata": {},
     "output_type": "display_data"
    }
   ],
   "source": [
    "display(df.shape)\n",
    "one_indexes = df.index[df['y'] == 1]\n",
    "display(one_indexes.shape)"
   ]
  },
  {
   "cell_type": "code",
   "execution_count": 5,
   "metadata": {},
   "outputs": [],
   "source": [
    "sign = lambda x: (1, -1)[x < 0]\n",
    "def curve_shift(df, shift_by):\n",
    "    vector = df['y'].copy()\n",
    "    for s in range(abs(shift_by)):\n",
    "        tmp = vector.shift(sign(shift_by))\n",
    "        tmp = tmp.fillna(0)\n",
    "        vector += tmp\n",
    "    labelcol = 'y'\n",
    "    # Add vector to the df\n",
    "    df.insert(loc=0, column=labelcol+'tmp', value=vector)\n",
    "    # Remove the rows with labelcol == 1.\n",
    "    df = df.drop(df[df[labelcol] == 1].index)\n",
    "    # Drop labelcol and rename the tmp col as labelcol\n",
    "    df = df.drop(labelcol, axis=1)\n",
    "    df = df.rename(columns={labelcol+'tmp': labelcol})\n",
    "    # Make the labelcol binary\n",
    "    df.loc[df[labelcol] > 0, labelcol] = 1\n",
    "    return df"
   ]
  },
  {
   "cell_type": "code",
   "execution_count": 6,
   "metadata": {},
   "outputs": [
    {
     "data": {
      "text/plain": [
       "(124,)"
      ]
     },
     "execution_count": 6,
     "metadata": {},
     "output_type": "execute_result"
    }
   ],
   "source": [
    "one_indexes = df.index[df['y'] == 1]\n",
    "one_indexes.shape"
   ]
  },
  {
   "cell_type": "code",
   "execution_count": 7,
   "metadata": {},
   "outputs": [
    {
     "name": "stdout",
     "output_type": "stream",
     "text": [
      "Before shifting\n"
     ]
    },
    {
     "data": {
      "text/html": [
       "<div>\n",
       "<style scoped>\n",
       "    .dataframe tbody tr th:only-of-type {\n",
       "        vertical-align: middle;\n",
       "    }\n",
       "\n",
       "    .dataframe tbody tr th {\n",
       "        vertical-align: top;\n",
       "    }\n",
       "\n",
       "    .dataframe thead th {\n",
       "        text-align: right;\n",
       "    }\n",
       "</style>\n",
       "<table border=\"1\" class=\"dataframe\">\n",
       "  <thead>\n",
       "    <tr style=\"text-align: right;\">\n",
       "      <th></th>\n",
       "      <th>time</th>\n",
       "      <th>y</th>\n",
       "      <th>x1</th>\n",
       "      <th>x2</th>\n",
       "      <th>x3</th>\n",
       "    </tr>\n",
       "  </thead>\n",
       "  <tbody>\n",
       "    <tr>\n",
       "      <th>256</th>\n",
       "      <td>5/1/99 8:32</td>\n",
       "      <td>0</td>\n",
       "      <td>1.016235</td>\n",
       "      <td>-4.058394</td>\n",
       "      <td>-1.097158</td>\n",
       "    </tr>\n",
       "    <tr>\n",
       "      <th>257</th>\n",
       "      <td>5/1/99 8:34</td>\n",
       "      <td>0</td>\n",
       "      <td>1.005602</td>\n",
       "      <td>-3.876199</td>\n",
       "      <td>-1.074373</td>\n",
       "    </tr>\n",
       "    <tr>\n",
       "      <th>258</th>\n",
       "      <td>5/1/99 8:36</td>\n",
       "      <td>0</td>\n",
       "      <td>0.933933</td>\n",
       "      <td>-3.868467</td>\n",
       "      <td>-1.249954</td>\n",
       "    </tr>\n",
       "    <tr>\n",
       "      <th>259</th>\n",
       "      <td>5/1/99 8:38</td>\n",
       "      <td>1</td>\n",
       "      <td>0.892311</td>\n",
       "      <td>-13.332664</td>\n",
       "      <td>-10.006578</td>\n",
       "    </tr>\n",
       "    <tr>\n",
       "      <th>260</th>\n",
       "      <td>5/1/99 10:50</td>\n",
       "      <td>0</td>\n",
       "      <td>0.020062</td>\n",
       "      <td>-3.987897</td>\n",
       "      <td>-1.248529</td>\n",
       "    </tr>\n",
       "  </tbody>\n",
       "</table>\n",
       "</div>"
      ],
      "text/plain": [
       "             time  y        x1         x2         x3\n",
       "256   5/1/99 8:32  0  1.016235  -4.058394  -1.097158\n",
       "257   5/1/99 8:34  0  1.005602  -3.876199  -1.074373\n",
       "258   5/1/99 8:36  0  0.933933  -3.868467  -1.249954\n",
       "259   5/1/99 8:38  1  0.892311 -13.332664 -10.006578\n",
       "260  5/1/99 10:50  0  0.020062  -3.987897  -1.248529"
      ]
     },
     "execution_count": 7,
     "metadata": {},
     "output_type": "execute_result"
    }
   ],
   "source": [
    "print('Before shifting')\n",
    "df.iloc[(one_indexes[0]-3):(one_indexes[0]+4), 0:5].head()"
   ]
  },
  {
   "cell_type": "code",
   "execution_count": 8,
   "metadata": {},
   "outputs": [],
   "source": [
    "# Shift the response column y by 2 rows to do a 4-min ahead prediction.\n",
    "df = curve_shift(df, shift_by = -2)"
   ]
  },
  {
   "cell_type": "code",
   "execution_count": 9,
   "metadata": {},
   "outputs": [
    {
     "name": "stdout",
     "output_type": "stream",
     "text": [
      "After shifting\n"
     ]
    },
    {
     "data": {
      "text/html": [
       "<div>\n",
       "<style scoped>\n",
       "    .dataframe tbody tr th:only-of-type {\n",
       "        vertical-align: middle;\n",
       "    }\n",
       "\n",
       "    .dataframe tbody tr th {\n",
       "        vertical-align: top;\n",
       "    }\n",
       "\n",
       "    .dataframe thead th {\n",
       "        text-align: right;\n",
       "    }\n",
       "</style>\n",
       "<table border=\"1\" class=\"dataframe\">\n",
       "  <thead>\n",
       "    <tr style=\"text-align: right;\">\n",
       "      <th></th>\n",
       "      <th>y</th>\n",
       "      <th>time</th>\n",
       "      <th>x1</th>\n",
       "      <th>x2</th>\n",
       "      <th>x3</th>\n",
       "    </tr>\n",
       "  </thead>\n",
       "  <tbody>\n",
       "    <tr>\n",
       "      <th>254</th>\n",
       "      <td>0.0</td>\n",
       "      <td>5/1/99 8:28</td>\n",
       "      <td>0.975947</td>\n",
       "      <td>-3.913736</td>\n",
       "      <td>-1.304682</td>\n",
       "    </tr>\n",
       "    <tr>\n",
       "      <th>255</th>\n",
       "      <td>0.0</td>\n",
       "      <td>5/1/99 8:30</td>\n",
       "      <td>0.997107</td>\n",
       "      <td>-3.865720</td>\n",
       "      <td>-1.133779</td>\n",
       "    </tr>\n",
       "    <tr>\n",
       "      <th>256</th>\n",
       "      <td>0.0</td>\n",
       "      <td>5/1/99 8:32</td>\n",
       "      <td>1.016235</td>\n",
       "      <td>-4.058394</td>\n",
       "      <td>-1.097158</td>\n",
       "    </tr>\n",
       "    <tr>\n",
       "      <th>257</th>\n",
       "      <td>1.0</td>\n",
       "      <td>5/1/99 8:34</td>\n",
       "      <td>1.005602</td>\n",
       "      <td>-3.876199</td>\n",
       "      <td>-1.074373</td>\n",
       "    </tr>\n",
       "    <tr>\n",
       "      <th>258</th>\n",
       "      <td>1.0</td>\n",
       "      <td>5/1/99 8:36</td>\n",
       "      <td>0.933933</td>\n",
       "      <td>-3.868467</td>\n",
       "      <td>-1.249954</td>\n",
       "    </tr>\n",
       "  </tbody>\n",
       "</table>\n",
       "</div>"
      ],
      "text/plain": [
       "       y         time        x1        x2        x3\n",
       "254  0.0  5/1/99 8:28  0.975947 -3.913736 -1.304682\n",
       "255  0.0  5/1/99 8:30  0.997107 -3.865720 -1.133779\n",
       "256  0.0  5/1/99 8:32  1.016235 -4.058394 -1.097158\n",
       "257  1.0  5/1/99 8:34  1.005602 -3.876199 -1.074373\n",
       "258  1.0  5/1/99 8:36  0.933933 -3.868467 -1.249954"
      ]
     },
     "execution_count": 9,
     "metadata": {},
     "output_type": "execute_result"
    }
   ],
   "source": [
    "print('After shifting')  # Validating if the shift happened correctly.\n",
    "df.iloc[(one_indexes[0]-5):(one_indexes[0]+5), 0:5].head()"
   ]
  },
  {
   "cell_type": "code",
   "execution_count": 10,
   "metadata": {},
   "outputs": [],
   "source": [
    "# Remove time column, and the categorical columns\n",
    "df = df.drop(['time', 'x28', 'x61'], axis=1)"
   ]
  },
  {
   "cell_type": "code",
   "execution_count": 11,
   "metadata": {},
   "outputs": [
    {
     "data": {
      "text/plain": [
       "(18274, 60)"
      ]
     },
     "execution_count": 11,
     "metadata": {},
     "output_type": "execute_result"
    }
   ],
   "source": [
    "df.shape"
   ]
  },
  {
   "cell_type": "code",
   "execution_count": 49,
   "metadata": {},
   "outputs": [],
   "source": [
    "from sklearn.preprocessing import StandardScaler\n",
    "from sklearn.model_selection import train_test_split\n",
    "from numpy.random import seed\n",
    "seed(1)\n",
    "df_train, df_test = train_test_split(df, test_size=0.20, random_state=123)\n",
    "df_train, df_valid = train_test_split(df_train, test_size=0.20, random_state=123)"
   ]
  },
  {
   "cell_type": "code",
   "execution_count": 13,
   "metadata": {},
   "outputs": [],
   "source": [
    "df_train_0 = df_train.loc[df['y'] == 0]\n",
    "df_train_1 = df_train.loc[df['y'] == 1]\n",
    "df_train_0_x = df_train_0.drop(['y'], axis=1)\n",
    "df_train_1_x = df_train_1.drop(['y'], axis=1)\n",
    "\n",
    "df_valid_0 = df_valid.loc[df['y'] == 0]\n",
    "df_valid_1 = df_valid.loc[df['y'] == 1]\n",
    "df_valid_0_x = df_valid_0.drop(['y'], axis=1)\n",
    "df_valid_1_x = df_valid_1.drop(['y'], axis=1)\n",
    "\n",
    "df_test_0 = df_test.loc[df['y'] == 0]\n",
    "df_test_1 = df_test.loc[df['y'] == 1]\n",
    "df_test_0_x = df_test_0.drop(['y'], axis=1)\n",
    "df_test_1_x = df_test_1.drop(['y'], axis=1)"
   ]
  },
  {
   "cell_type": "code",
   "execution_count": 14,
   "metadata": {
    "scrolled": false
   },
   "outputs": [
    {
     "data": {
      "text/html": [
       "<div>\n",
       "<style scoped>\n",
       "    .dataframe tbody tr th:only-of-type {\n",
       "        vertical-align: middle;\n",
       "    }\n",
       "\n",
       "    .dataframe tbody tr th {\n",
       "        vertical-align: top;\n",
       "    }\n",
       "\n",
       "    .dataframe thead th {\n",
       "        text-align: right;\n",
       "    }\n",
       "</style>\n",
       "<table border=\"1\" class=\"dataframe\">\n",
       "  <thead>\n",
       "    <tr style=\"text-align: right;\">\n",
       "      <th></th>\n",
       "      <th>x1</th>\n",
       "      <th>x2</th>\n",
       "      <th>x3</th>\n",
       "      <th>x4</th>\n",
       "      <th>x5</th>\n",
       "      <th>x6</th>\n",
       "      <th>x7</th>\n",
       "      <th>x8</th>\n",
       "      <th>x9</th>\n",
       "      <th>x10</th>\n",
       "      <th>...</th>\n",
       "      <th>x51</th>\n",
       "      <th>x52</th>\n",
       "      <th>x53</th>\n",
       "      <th>x54</th>\n",
       "      <th>x55</th>\n",
       "      <th>x56</th>\n",
       "      <th>x57</th>\n",
       "      <th>x58</th>\n",
       "      <th>x59</th>\n",
       "      <th>x60</th>\n",
       "    </tr>\n",
       "  </thead>\n",
       "  <tbody>\n",
       "    <tr>\n",
       "      <th>2587</th>\n",
       "      <td>-0.151683</td>\n",
       "      <td>-3.954797</td>\n",
       "      <td>-4.299529</td>\n",
       "      <td>62.011024</td>\n",
       "      <td>-0.096552</td>\n",
       "      <td>25.731026</td>\n",
       "      <td>-0.059389</td>\n",
       "      <td>-0.091023</td>\n",
       "      <td>-0.030057</td>\n",
       "      <td>0.001791</td>\n",
       "      <td>...</td>\n",
       "      <td>27.413823</td>\n",
       "      <td>11.055832</td>\n",
       "      <td>4.041316</td>\n",
       "      <td>-4.996629</td>\n",
       "      <td>-31.080624</td>\n",
       "      <td>60.825372</td>\n",
       "      <td>4.114269</td>\n",
       "      <td>0.011547</td>\n",
       "      <td>1.405894</td>\n",
       "      <td>0.007603</td>\n",
       "    </tr>\n",
       "    <tr>\n",
       "      <th>10042</th>\n",
       "      <td>-0.147111</td>\n",
       "      <td>-5.999036</td>\n",
       "      <td>14.114239</td>\n",
       "      <td>-22.551843</td>\n",
       "      <td>-0.051173</td>\n",
       "      <td>23.363014</td>\n",
       "      <td>0.138014</td>\n",
       "      <td>0.082431</td>\n",
       "      <td>-0.047305</td>\n",
       "      <td>-0.001783</td>\n",
       "      <td>...</td>\n",
       "      <td>29.984624</td>\n",
       "      <td>-8.220535</td>\n",
       "      <td>-2.140568</td>\n",
       "      <td>2.918754</td>\n",
       "      <td>32.183658</td>\n",
       "      <td>-14.610037</td>\n",
       "      <td>-1.470630</td>\n",
       "      <td>-0.149790</td>\n",
       "      <td>0.873270</td>\n",
       "      <td>-0.000131</td>\n",
       "    </tr>\n",
       "    <tr>\n",
       "      <th>18333</th>\n",
       "      <td>-1.001505</td>\n",
       "      <td>1.413677</td>\n",
       "      <td>0.772814</td>\n",
       "      <td>133.189490</td>\n",
       "      <td>-0.017313</td>\n",
       "      <td>24.688790</td>\n",
       "      <td>-0.159185</td>\n",
       "      <td>0.048752</td>\n",
       "      <td>0.150002</td>\n",
       "      <td>0.221829</td>\n",
       "      <td>...</td>\n",
       "      <td>29.984624</td>\n",
       "      <td>-0.773514</td>\n",
       "      <td>-0.752385</td>\n",
       "      <td>2.626903</td>\n",
       "      <td>10.084903</td>\n",
       "      <td>-38.972968</td>\n",
       "      <td>-1.345508</td>\n",
       "      <td>0.004998</td>\n",
       "      <td>0.196558</td>\n",
       "      <td>-0.011666</td>\n",
       "    </tr>\n",
       "    <tr>\n",
       "      <th>14917</th>\n",
       "      <td>-0.045711</td>\n",
       "      <td>-1.306390</td>\n",
       "      <td>-1.782303</td>\n",
       "      <td>109.723670</td>\n",
       "      <td>1.135503</td>\n",
       "      <td>-46.080543</td>\n",
       "      <td>0.020874</td>\n",
       "      <td>0.078965</td>\n",
       "      <td>0.451540</td>\n",
       "      <td>0.374269</td>\n",
       "      <td>...</td>\n",
       "      <td>29.984624</td>\n",
       "      <td>-3.672684</td>\n",
       "      <td>0.033504</td>\n",
       "      <td>0.643207</td>\n",
       "      <td>28.214908</td>\n",
       "      <td>-34.409476</td>\n",
       "      <td>-2.111499</td>\n",
       "      <td>0.003650</td>\n",
       "      <td>1.222185</td>\n",
       "      <td>0.001352</td>\n",
       "    </tr>\n",
       "    <tr>\n",
       "      <th>15653</th>\n",
       "      <td>0.087203</td>\n",
       "      <td>1.469594</td>\n",
       "      <td>-6.491958</td>\n",
       "      <td>220.912482</td>\n",
       "      <td>0.256597</td>\n",
       "      <td>28.408577</td>\n",
       "      <td>0.020874</td>\n",
       "      <td>0.008773</td>\n",
       "      <td>0.805514</td>\n",
       "      <td>0.871568</td>\n",
       "      <td>...</td>\n",
       "      <td>29.984624</td>\n",
       "      <td>-6.441238</td>\n",
       "      <td>6.044734</td>\n",
       "      <td>-4.822905</td>\n",
       "      <td>-81.990658</td>\n",
       "      <td>-38.172354</td>\n",
       "      <td>-4.137927</td>\n",
       "      <td>-0.006124</td>\n",
       "      <td>1.181757</td>\n",
       "      <td>-0.000550</td>\n",
       "    </tr>\n",
       "  </tbody>\n",
       "</table>\n",
       "<p>5 rows × 59 columns</p>\n",
       "</div>"
      ],
      "text/plain": [
       "             x1        x2         x3          x4        x5         x6  \\\n",
       "2587  -0.151683 -3.954797  -4.299529   62.011024 -0.096552  25.731026   \n",
       "10042 -0.147111 -5.999036  14.114239  -22.551843 -0.051173  23.363014   \n",
       "18333 -1.001505  1.413677   0.772814  133.189490 -0.017313  24.688790   \n",
       "14917 -0.045711 -1.306390  -1.782303  109.723670  1.135503 -46.080543   \n",
       "15653  0.087203  1.469594  -6.491958  220.912482  0.256597  28.408577   \n",
       "\n",
       "             x7        x8        x9       x10    ...           x51        x52  \\\n",
       "2587  -0.059389 -0.091023 -0.030057  0.001791    ...     27.413823  11.055832   \n",
       "10042  0.138014  0.082431 -0.047305 -0.001783    ...     29.984624  -8.220535   \n",
       "18333 -0.159185  0.048752  0.150002  0.221829    ...     29.984624  -0.773514   \n",
       "14917  0.020874  0.078965  0.451540  0.374269    ...     29.984624  -3.672684   \n",
       "15653  0.020874  0.008773  0.805514  0.871568    ...     29.984624  -6.441238   \n",
       "\n",
       "            x53       x54        x55        x56       x57       x58       x59  \\\n",
       "2587   4.041316 -4.996629 -31.080624  60.825372  4.114269  0.011547  1.405894   \n",
       "10042 -2.140568  2.918754  32.183658 -14.610037 -1.470630 -0.149790  0.873270   \n",
       "18333 -0.752385  2.626903  10.084903 -38.972968 -1.345508  0.004998  0.196558   \n",
       "14917  0.033504  0.643207  28.214908 -34.409476 -2.111499  0.003650  1.222185   \n",
       "15653  6.044734 -4.822905 -81.990658 -38.172354 -4.137927 -0.006124  1.181757   \n",
       "\n",
       "            x60  \n",
       "2587   0.007603  \n",
       "10042 -0.000131  \n",
       "18333 -0.011666  \n",
       "14917  0.001352  \n",
       "15653 -0.000550  \n",
       "\n",
       "[5 rows x 59 columns]"
      ]
     },
     "execution_count": 14,
     "metadata": {},
     "output_type": "execute_result"
    }
   ],
   "source": [
    "df_valid_0_x.head()"
   ]
  },
  {
   "cell_type": "code",
   "execution_count": 15,
   "metadata": {},
   "outputs": [],
   "source": [
    "scaler = StandardScaler().fit(df_train_0_x)\n",
    "df_train_0_x_rescaled = scaler.transform(df_train_0_x)\n",
    "\n",
    "df_valid_0_x_rescaled = scaler.transform(df_valid_0_x)\n",
    "df_valid_x_rescaled = scaler.transform(df_valid.drop(['y'], axis = 1))\n",
    "\n",
    "df_test_0_x_rescaled = scaler.transform(df_test_0_x)\n",
    "df_test_x_rescaled = scaler.transform(df_test.drop(['y'], axis = 1))"
   ]
  },
  {
   "cell_type": "code",
   "execution_count": 16,
   "metadata": {},
   "outputs": [
    {
     "data": {
      "text/plain": [
       "array([[ 0.28465057, -0.40412757, -0.62589879, ...,  0.76290131,\n",
       "         0.06550254,  0.83690695],\n",
       "       [ 0.39664772, -0.62581965, -1.16135172, ...,  0.24624873,\n",
       "         0.0433654 , -0.52066544],\n",
       "       [-0.25231813,  0.8485702 , -0.77904894, ..., -0.05464438,\n",
       "         0.52862848, -0.21522559],\n",
       "       ...,\n",
       "       [ 0.12948316, -0.40980764, -0.48081707, ...,  0.4773214 ,\n",
       "         0.12223847,  0.66641167],\n",
       "       [ 0.95893943, -0.01367991, -0.84227877, ...,  0.34469609,\n",
       "         0.14765926, -0.31377229],\n",
       "       [-0.652323  ,  0.11445042,  1.37973703, ...,  0.52270626,\n",
       "         0.2442717 ,  1.19322293]])"
      ]
     },
     "metadata": {},
     "output_type": "display_data"
    },
    {
     "data": {
      "text/plain": [
       "array([[-0.2123079 , -0.84638099, -0.83541434, ...,  0.27188219,\n",
       "         0.14545695,  1.35988685],\n",
       "       [-0.20620535, -1.25804626,  2.26833326, ..., -3.05792872,\n",
       "         0.09681695, -0.28631425],\n",
       "       [-1.34637276,  0.23471291,  0.01955855, ...,  0.1367183 ,\n",
       "         0.03501861, -2.74157399],\n",
       "       ...,\n",
       "       [ 1.07036275,  1.15176348, -0.29748802, ...,  0.47670224,\n",
       "         0.05417028, -0.62368631],\n",
       "       [-0.75209102,  2.51961398,  0.2989211 , ...,  0.69386432,\n",
       "         0.11194919,  1.16384921],\n",
       "       [ 0.50511518,  0.2391527 ,  0.3648576 , ...,  0.11352022,\n",
       "         0.17010918, -1.00256471]])"
      ]
     },
     "metadata": {},
     "output_type": "display_data"
    },
    {
     "data": {
      "text/plain": [
       "array([[-0.2123079 , -0.84638099, -0.83541434, ...,  0.27188219,\n",
       "         0.14545695,  1.35988685],\n",
       "       [-0.20620535, -1.25804626,  2.26833326, ..., -3.05792872,\n",
       "         0.09681695, -0.28631425],\n",
       "       [-1.34637276,  0.23471291,  0.01955855, ...,  0.1367183 ,\n",
       "         0.03501861, -2.74157399],\n",
       "       ...,\n",
       "       [ 1.07036275,  1.15176348, -0.29748802, ...,  0.47670224,\n",
       "         0.05417028, -0.62368631],\n",
       "       [-0.75209102,  2.51961398,  0.2989211 , ...,  0.69386432,\n",
       "         0.11194919,  1.16384921],\n",
       "       [ 0.50511518,  0.2391527 ,  0.3648576 , ...,  0.11352022,\n",
       "         0.17010918, -1.00256471]])"
      ]
     },
     "metadata": {},
     "output_type": "display_data"
    },
    {
     "data": {
      "text/plain": [
       "array([[-0.03423556, -1.2896415 ,  2.10215425, ..., -0.99107074,\n",
       "         0.02404451, -0.52534821],\n",
       "       [-0.84889917, -0.95223909, -0.75813959, ...,  0.35759538,\n",
       "         0.26804405,  1.45567072],\n",
       "       [-0.55960368,  1.65781636,  1.1285587 , ...,  0.88351481,\n",
       "         0.13074479,  1.43544968],\n",
       "       ...,\n",
       "       [ 0.61956509,  0.22911761,  0.1953567 , ...,  0.67326674,\n",
       "         0.12002703,  0.40609241],\n",
       "       [ 0.42553376, -0.26813482, -0.33340338, ...,  0.12350943,\n",
       "         0.09839571, -0.01961366],\n",
       "       [ 0.71178131, -0.02680998,  0.4402752 , ...,  0.19510563,\n",
       "         0.12814112, -1.10154137]])"
      ]
     },
     "metadata": {},
     "output_type": "display_data"
    },
    {
     "data": {
      "text/plain": [
       "array([[-0.03423556, -1.2896415 ,  2.10215425, ..., -0.99107074,\n",
       "         0.02404451, -0.52534821],\n",
       "       [-0.84889917, -0.95223909, -0.75813959, ...,  0.35759538,\n",
       "         0.26804405,  1.45567072],\n",
       "       [-0.55960368,  1.65781636,  1.1285587 , ...,  0.88351481,\n",
       "         0.13074479,  1.43544968],\n",
       "       ...,\n",
       "       [ 0.61956509,  0.22911761,  0.1953567 , ...,  0.67326674,\n",
       "         0.12002703,  0.40609241],\n",
       "       [ 0.42553376, -0.26813482, -0.33340338, ...,  0.12350943,\n",
       "         0.09839571, -0.01961366],\n",
       "       [ 0.71178131, -0.02680998,  0.4402752 , ...,  0.19510563,\n",
       "         0.12814112, -1.10154137]])"
      ]
     },
     "metadata": {},
     "output_type": "display_data"
    }
   ],
   "source": [
    "display(df_train_0_x_rescaled)\n",
    "display(df_valid_0_x_rescaled)\n",
    "display(df_valid_x_rescaled)\n",
    "display(df_test_0_x_rescaled)\n",
    "display(df_test_x_rescaled)"
   ]
  },
  {
   "cell_type": "code",
   "execution_count": 17,
   "metadata": {},
   "outputs": [
    {
     "name": "stderr",
     "output_type": "stream",
     "text": [
      "C:\\Users\\Rupesh\\Anaconda3\\lib\\site-packages\\h5py\\__init__.py:72: UserWarning: h5py is running against HDF5 1.10.2 when it was built against 1.10.3, this may cause problems\n",
      "  '{0}.{1}.{2}'.format(*version.hdf5_built_version_tuple)\n",
      "Using TensorFlow backend.\n"
     ]
    }
   ],
   "source": [
    "import tensorflow as tf\n",
    "from keras.models import Model, load_model\n",
    "from keras.layers import Input, Dense\n",
    "from keras.callbacks import ModelCheckpoint, TensorBoard\n",
    "from keras import regularizers"
   ]
  },
  {
   "cell_type": "code",
   "execution_count": 18,
   "metadata": {},
   "outputs": [
    {
     "data": {
      "text/plain": [
       "59"
      ]
     },
     "execution_count": 18,
     "metadata": {},
     "output_type": "execute_result"
    }
   ],
   "source": [
    "df_train_0_x_rescaled.shape[1]"
   ]
  },
  {
   "cell_type": "code",
   "execution_count": 19,
   "metadata": {},
   "outputs": [
    {
     "name": "stdout",
     "output_type": "stream",
     "text": [
      "WARNING:tensorflow:From C:\\Users\\Rupesh\\Anaconda3\\lib\\site-packages\\tensorflow\\python\\framework\\op_def_library.py:263: colocate_with (from tensorflow.python.framework.ops) is deprecated and will be removed in a future version.\n",
      "Instructions for updating:\n",
      "Colocations handled automatically by placer.\n"
     ]
    }
   ],
   "source": [
    "nb_epoch = 100\n",
    "batch_size = 128\n",
    "input_dim = df_train_0_x_rescaled.shape[1] #num of predictor variables, \n",
    "encoding_dim = 32\n",
    "hidden_dim = int(encoding_dim / 2)\n",
    "learning_rate = 1e-3\n",
    "\n",
    "input_layer = Input(shape=(input_dim, ))\n",
    "encoder = Dense(encoding_dim, activation=\"tanh\", activity_regularizer=regularizers.l1(learning_rate))(input_layer)\n",
    "encoder = Dense(hidden_dim, activation=\"relu\")(encoder)\n",
    "decoder = Dense(hidden_dim, activation='tanh')(encoder)\n",
    "decoder = Dense(input_dim, activation='relu')(decoder)\n",
    "autoencoder = Model(inputs=input_layer, outputs=decoder)"
   ]
  },
  {
   "cell_type": "code",
   "execution_count": 20,
   "metadata": {},
   "outputs": [
    {
     "name": "stdout",
     "output_type": "stream",
     "text": [
      "WARNING:tensorflow:From C:\\Users\\Rupesh\\Anaconda3\\lib\\site-packages\\tensorflow\\python\\ops\\math_ops.py:3066: to_int32 (from tensorflow.python.ops.math_ops) is deprecated and will be removed in a future version.\n",
      "Instructions for updating:\n",
      "Use tf.cast instead.\n",
      "Train on 11541 samples, validate on 2883 samples\n",
      "Epoch 1/100\n",
      "11541/11541 [==============================] - 2s 137us/step - loss: 2.6951 - acc: 0.0549 - val_loss: 2.2150 - val_acc: 0.0777\n",
      "Epoch 2/100\n",
      "11541/11541 [==============================] - 0s 16us/step - loss: 1.9105 - acc: 0.0756 - val_loss: 1.6011 - val_acc: 0.0663\n",
      "Epoch 3/100\n",
      "11541/11541 [==============================] - 0s 16us/step - loss: 1.4225 - acc: 0.0582 - val_loss: 1.2468 - val_acc: 0.0624\n",
      "Epoch 4/100\n",
      "11541/11541 [==============================] - 0s 16us/step - loss: 1.1667 - acc: 0.0646 - val_loss: 1.0713 - val_acc: 0.0704\n",
      "Epoch 5/100\n",
      "11541/11541 [==============================] - 0s 17us/step - loss: 1.0357 - acc: 0.0904 - val_loss: 0.9787 - val_acc: 0.1089\n",
      "Epoch 6/100\n",
      "11541/11541 [==============================] - 0s 16us/step - loss: 0.9621 - acc: 0.1301 - val_loss: 0.9225 - val_acc: 0.1391\n",
      "Epoch 7/100\n",
      "11541/11541 [==============================] - 0s 16us/step - loss: 0.9153 - acc: 0.1513 - val_loss: 0.8793 - val_acc: 0.1877\n",
      "Epoch 8/100\n",
      "11541/11541 [==============================] - 0s 16us/step - loss: 0.8791 - acc: 0.1801 - val_loss: 0.8510 - val_acc: 0.1953\n",
      "Epoch 9/100\n",
      "11541/11541 [==============================] - 0s 16us/step - loss: 0.8544 - acc: 0.1960 - val_loss: 0.8288 - val_acc: 0.2126\n",
      "Epoch 10/100\n",
      "11541/11541 [==============================] - 0s 17us/step - loss: 0.8359 - acc: 0.2100 - val_loss: 0.8120 - val_acc: 0.2237\n",
      "Epoch 11/100\n",
      "11541/11541 [==============================] - 0s 16us/step - loss: 0.8214 - acc: 0.2216 - val_loss: 0.7989 - val_acc: 0.2237\n",
      "Epoch 12/100\n",
      "11541/11541 [==============================] - 0s 15us/step - loss: 0.8059 - acc: 0.2309 - val_loss: 0.7850 - val_acc: 0.2307\n",
      "Epoch 13/100\n",
      "11541/11541 [==============================] - 0s 16us/step - loss: 0.7953 - acc: 0.2334 - val_loss: 0.7745 - val_acc: 0.2435\n",
      "Epoch 14/100\n",
      "11541/11541 [==============================] - 0s 16us/step - loss: 0.7837 - acc: 0.2535 - val_loss: 0.7641 - val_acc: 0.2813\n",
      "Epoch 15/100\n",
      "11541/11541 [==============================] - 0s 16us/step - loss: 0.7745 - acc: 0.2778 - val_loss: 0.7605 - val_acc: 0.2751\n",
      "Epoch 16/100\n",
      "11541/11541 [==============================] - 0s 16us/step - loss: 0.7672 - acc: 0.2949 - val_loss: 0.7470 - val_acc: 0.3136\n",
      "Epoch 17/100\n",
      "11541/11541 [==============================] - 0s 15us/step - loss: 0.7560 - acc: 0.3131 - val_loss: 0.7425 - val_acc: 0.3104\n",
      "Epoch 18/100\n",
      "11541/11541 [==============================] - 0s 16us/step - loss: 0.7512 - acc: 0.3296 - val_loss: 0.7406 - val_acc: 0.3479\n",
      "Epoch 19/100\n",
      "11541/11541 [==============================] - 0s 16us/step - loss: 0.7475 - acc: 0.3458 - val_loss: 0.7294 - val_acc: 0.3587\n",
      "Epoch 20/100\n",
      "11541/11541 [==============================] - 0s 16us/step - loss: 0.7391 - acc: 0.3570 - val_loss: 0.7232 - val_acc: 0.3628\n",
      "Epoch 21/100\n",
      "11541/11541 [==============================] - 0s 15us/step - loss: 0.7367 - acc: 0.3651 - val_loss: 0.7198 - val_acc: 0.3847\n",
      "Epoch 22/100\n",
      "11541/11541 [==============================] - 0s 16us/step - loss: 0.7316 - acc: 0.3741 - val_loss: 0.7163 - val_acc: 0.3878\n",
      "Epoch 23/100\n",
      "11541/11541 [==============================] - 0s 16us/step - loss: 0.7286 - acc: 0.3876 - val_loss: 0.7182 - val_acc: 0.3909\n",
      "Epoch 24/100\n",
      "11541/11541 [==============================] - 0s 16us/step - loss: 0.7260 - acc: 0.3923 - val_loss: 0.7113 - val_acc: 0.3982\n",
      "Epoch 25/100\n",
      "11541/11541 [==============================] - 0s 17us/step - loss: 0.7222 - acc: 0.3938 - val_loss: 0.7107 - val_acc: 0.3819\n",
      "Epoch 26/100\n",
      "11541/11541 [==============================] - 0s 16us/step - loss: 0.7208 - acc: 0.3968 - val_loss: 0.7036 - val_acc: 0.3895\n",
      "Epoch 27/100\n",
      "11541/11541 [==============================] - 0s 16us/step - loss: 0.7183 - acc: 0.3973 - val_loss: 0.7159 - val_acc: 0.3704\n",
      "Epoch 28/100\n",
      "11541/11541 [==============================] - 0s 16us/step - loss: 0.7171 - acc: 0.4031 - val_loss: 0.6971 - val_acc: 0.4225\n",
      "Epoch 29/100\n",
      "11541/11541 [==============================] - 0s 16us/step - loss: 0.7109 - acc: 0.4115 - val_loss: 0.7006 - val_acc: 0.4152\n",
      "Epoch 30/100\n",
      "11541/11541 [==============================] - 0s 16us/step - loss: 0.7132 - acc: 0.4222 - val_loss: 0.6963 - val_acc: 0.4169\n",
      "Epoch 31/100\n",
      "11541/11541 [==============================] - 0s 16us/step - loss: 0.7060 - acc: 0.4244 - val_loss: 0.6942 - val_acc: 0.4450\n",
      "Epoch 32/100\n",
      "11541/11541 [==============================] - 0s 16us/step - loss: 0.7067 - acc: 0.4249 - val_loss: 0.6942 - val_acc: 0.4086\n",
      "Epoch 33/100\n",
      "11541/11541 [==============================] - 0s 16us/step - loss: 0.7031 - acc: 0.4287 - val_loss: 0.6885 - val_acc: 0.4294\n",
      "Epoch 34/100\n",
      "11541/11541 [==============================] - 0s 16us/step - loss: 0.7023 - acc: 0.4317 - val_loss: 0.6912 - val_acc: 0.4242\n",
      "Epoch 35/100\n",
      "11541/11541 [==============================] - 0s 16us/step - loss: 0.7007 - acc: 0.4364 - val_loss: 0.6839 - val_acc: 0.4544\n",
      "Epoch 36/100\n",
      "11541/11541 [==============================] - 0s 16us/step - loss: 0.6976 - acc: 0.4440 - val_loss: 0.6827 - val_acc: 0.4429\n",
      "Epoch 37/100\n",
      "11541/11541 [==============================] - 0s 16us/step - loss: 0.6973 - acc: 0.4431 - val_loss: 0.6886 - val_acc: 0.4572\n",
      "Epoch 38/100\n",
      "11541/11541 [==============================] - 0s 16us/step - loss: 0.6968 - acc: 0.4466 - val_loss: 0.6859 - val_acc: 0.4370\n",
      "Epoch 39/100\n",
      "11541/11541 [==============================] - 0s 16us/step - loss: 0.6948 - acc: 0.4461 - val_loss: 0.6804 - val_acc: 0.4405\n",
      "Epoch 40/100\n",
      "11541/11541 [==============================] - 0s 15us/step - loss: 0.6945 - acc: 0.4493 - val_loss: 0.6825 - val_acc: 0.4544\n",
      "Epoch 41/100\n",
      "11541/11541 [==============================] - 0s 16us/step - loss: 0.6952 - acc: 0.4478 - val_loss: 0.6865 - val_acc: 0.4381\n",
      "Epoch 42/100\n",
      "11541/11541 [==============================] - 0s 16us/step - loss: 0.6973 - acc: 0.4500 - val_loss: 0.6747 - val_acc: 0.4568\n",
      "Epoch 43/100\n",
      "11541/11541 [==============================] - 0s 16us/step - loss: 0.6915 - acc: 0.4540 - val_loss: 0.6807 - val_acc: 0.4478\n",
      "Epoch 44/100\n",
      "11541/11541 [==============================] - 0s 16us/step - loss: 0.6905 - acc: 0.4593 - val_loss: 0.6764 - val_acc: 0.4572\n",
      "Epoch 45/100\n",
      "11541/11541 [==============================] - 0s 16us/step - loss: 0.6878 - acc: 0.4632 - val_loss: 0.6747 - val_acc: 0.4693\n",
      "Epoch 46/100\n",
      "11541/11541 [==============================] - 0s 16us/step - loss: 0.6870 - acc: 0.4676 - val_loss: 0.6756 - val_acc: 0.4558\n",
      "Epoch 47/100\n",
      "11541/11541 [==============================] - 0s 16us/step - loss: 0.6896 - acc: 0.4629 - val_loss: 0.6722 - val_acc: 0.4842\n",
      "Epoch 48/100\n",
      "11541/11541 [==============================] - 0s 16us/step - loss: 0.6871 - acc: 0.4655 - val_loss: 0.6819 - val_acc: 0.4454\n",
      "Epoch 49/100\n",
      "11541/11541 [==============================] - 0s 15us/step - loss: 0.6867 - acc: 0.4708 - val_loss: 0.6719 - val_acc: 0.4755\n",
      "Epoch 50/100\n",
      "11541/11541 [==============================] - 0s 16us/step - loss: 0.6848 - acc: 0.4677 - val_loss: 0.6726 - val_acc: 0.4731\n",
      "Epoch 51/100\n",
      "11541/11541 [==============================] - 0s 16us/step - loss: 0.6840 - acc: 0.4734 - val_loss: 0.6731 - val_acc: 0.4738\n",
      "Epoch 52/100\n",
      "11541/11541 [==============================] - 0s 15us/step - loss: 0.6850 - acc: 0.4685 - val_loss: 0.6766 - val_acc: 0.4814\n",
      "Epoch 53/100\n",
      "11541/11541 [==============================] - 0s 16us/step - loss: 0.6838 - acc: 0.4753 - val_loss: 0.6743 - val_acc: 0.4676\n",
      "Epoch 54/100\n",
      "11541/11541 [==============================] - 0s 16us/step - loss: 0.6882 - acc: 0.4703 - val_loss: 0.6715 - val_acc: 0.4721\n",
      "Epoch 55/100\n",
      "11541/11541 [==============================] - 0s 16us/step - loss: 0.6830 - acc: 0.4784 - val_loss: 0.6709 - val_acc: 0.4721\n",
      "Epoch 56/100\n",
      "11541/11541 [==============================] - 0s 16us/step - loss: 0.6837 - acc: 0.4766 - val_loss: 0.6666 - val_acc: 0.4814\n",
      "Epoch 57/100\n",
      "11541/11541 [==============================] - 0s 16us/step - loss: 0.6798 - acc: 0.4833 - val_loss: 0.6671 - val_acc: 0.4787\n"
     ]
    },
    {
     "name": "stdout",
     "output_type": "stream",
     "text": [
      "Epoch 58/100\n",
      "11541/11541 [==============================] - 0s 16us/step - loss: 0.6797 - acc: 0.4790 - val_loss: 0.6699 - val_acc: 0.4780\n",
      "Epoch 59/100\n",
      "11541/11541 [==============================] - 0s 16us/step - loss: 0.6788 - acc: 0.4812 - val_loss: 0.6659 - val_acc: 0.4745\n",
      "Epoch 60/100\n",
      "11541/11541 [==============================] - 0s 17us/step - loss: 0.6813 - acc: 0.4818 - val_loss: 0.6652 - val_acc: 0.4932\n",
      "Epoch 61/100\n",
      "11541/11541 [==============================] - 0s 16us/step - loss: 0.6791 - acc: 0.4832 - val_loss: 0.6713 - val_acc: 0.4690\n",
      "Epoch 62/100\n",
      "11541/11541 [==============================] - 0s 16us/step - loss: 0.6794 - acc: 0.4838 - val_loss: 0.6739 - val_acc: 0.4696\n",
      "Epoch 63/100\n",
      "11541/11541 [==============================] - 0s 16us/step - loss: 0.6855 - acc: 0.4772 - val_loss: 0.6616 - val_acc: 0.4842\n",
      "Epoch 64/100\n",
      "11541/11541 [==============================] - 0s 15us/step - loss: 0.6765 - acc: 0.4891 - val_loss: 0.6630 - val_acc: 0.4915\n",
      "Epoch 65/100\n",
      "11541/11541 [==============================] - 0s 16us/step - loss: 0.6795 - acc: 0.4897 - val_loss: 0.6653 - val_acc: 0.4960\n",
      "Epoch 66/100\n",
      "11541/11541 [==============================] - 0s 15us/step - loss: 0.6769 - acc: 0.4889 - val_loss: 0.6617 - val_acc: 0.5165\n",
      "Epoch 67/100\n",
      "11541/11541 [==============================] - 0s 16us/step - loss: 0.6771 - acc: 0.4961 - val_loss: 0.6679 - val_acc: 0.4731\n",
      "Epoch 68/100\n",
      "11541/11541 [==============================] - 0s 16us/step - loss: 0.6792 - acc: 0.4903 - val_loss: 0.6640 - val_acc: 0.4957\n",
      "Epoch 69/100\n",
      "11541/11541 [==============================] - 0s 16us/step - loss: 0.6750 - acc: 0.4921 - val_loss: 0.6638 - val_acc: 0.5043\n",
      "Epoch 70/100\n",
      "11541/11541 [==============================] - 0s 15us/step - loss: 0.6761 - acc: 0.4925 - val_loss: 0.6651 - val_acc: 0.5016\n",
      "Epoch 71/100\n",
      "11541/11541 [==============================] - 0s 16us/step - loss: 0.6750 - acc: 0.4879 - val_loss: 0.6701 - val_acc: 0.4929\n",
      "Epoch 72/100\n",
      "11541/11541 [==============================] - 0s 16us/step - loss: 0.6766 - acc: 0.4926 - val_loss: 0.6632 - val_acc: 0.4901\n",
      "Epoch 73/100\n",
      "11541/11541 [==============================] - 0s 16us/step - loss: 0.6746 - acc: 0.4994 - val_loss: 0.6589 - val_acc: 0.4880\n",
      "Epoch 74/100\n",
      "11541/11541 [==============================] - 0s 16us/step - loss: 0.6713 - acc: 0.4977 - val_loss: 0.6604 - val_acc: 0.4929\n",
      "Epoch 75/100\n",
      "11541/11541 [==============================] - 0s 16us/step - loss: 0.6692 - acc: 0.4996 - val_loss: 0.6551 - val_acc: 0.5206\n",
      "Epoch 76/100\n",
      "11541/11541 [==============================] - 0s 16us/step - loss: 0.6700 - acc: 0.4984 - val_loss: 0.6617 - val_acc: 0.5054\n",
      "Epoch 77/100\n",
      "11541/11541 [==============================] - 0s 15us/step - loss: 0.6713 - acc: 0.5013 - val_loss: 0.6553 - val_acc: 0.4995\n",
      "Epoch 78/100\n",
      "11541/11541 [==============================] - 0s 15us/step - loss: 0.6691 - acc: 0.4970 - val_loss: 0.6602 - val_acc: 0.5040\n",
      "Epoch 79/100\n",
      "11541/11541 [==============================] - 0s 15us/step - loss: 0.6691 - acc: 0.5020 - val_loss: 0.6552 - val_acc: 0.5196\n",
      "Epoch 80/100\n",
      "11541/11541 [==============================] - 0s 16us/step - loss: 0.6686 - acc: 0.5005 - val_loss: 0.6592 - val_acc: 0.4929\n",
      "Epoch 81/100\n",
      "11541/11541 [==============================] - 0s 15us/step - loss: 0.6678 - acc: 0.5011 - val_loss: 0.6541 - val_acc: 0.5057\n",
      "Epoch 82/100\n",
      "11541/11541 [==============================] - 0s 16us/step - loss: 0.6690 - acc: 0.4974 - val_loss: 0.6601 - val_acc: 0.5036\n",
      "Epoch 83/100\n",
      "11541/11541 [==============================] - 0s 15us/step - loss: 0.6699 - acc: 0.4974 - val_loss: 0.6605 - val_acc: 0.4960\n",
      "Epoch 84/100\n",
      "11541/11541 [==============================] - 0s 16us/step - loss: 0.6670 - acc: 0.4996 - val_loss: 0.6532 - val_acc: 0.4991\n",
      "Epoch 85/100\n",
      "11541/11541 [==============================] - 0s 15us/step - loss: 0.6685 - acc: 0.5003 - val_loss: 0.6574 - val_acc: 0.4849\n",
      "Epoch 86/100\n",
      "11541/11541 [==============================] - 0s 16us/step - loss: 0.6668 - acc: 0.5003 - val_loss: 0.6554 - val_acc: 0.4950\n",
      "Epoch 87/100\n",
      "11541/11541 [==============================] - 0s 16us/step - loss: 0.6673 - acc: 0.5028 - val_loss: 0.6573 - val_acc: 0.4929\n",
      "Epoch 88/100\n",
      "11541/11541 [==============================] - 0s 16us/step - loss: 0.6656 - acc: 0.5031 - val_loss: 0.6529 - val_acc: 0.5064\n",
      "Epoch 89/100\n",
      "11541/11541 [==============================] - 0s 16us/step - loss: 0.6665 - acc: 0.5050 - val_loss: 0.6571 - val_acc: 0.5165\n",
      "Epoch 90/100\n",
      "11541/11541 [==============================] - 0s 16us/step - loss: 0.6675 - acc: 0.5009 - val_loss: 0.6558 - val_acc: 0.5054\n",
      "Epoch 91/100\n",
      "11541/11541 [==============================] - 0s 16us/step - loss: 0.6650 - acc: 0.5060 - val_loss: 0.6546 - val_acc: 0.5227\n",
      "Epoch 92/100\n",
      "11541/11541 [==============================] - 0s 16us/step - loss: 0.6648 - acc: 0.5063 - val_loss: 0.6506 - val_acc: 0.4814\n",
      "Epoch 93/100\n",
      "11541/11541 [==============================] - 0s 16us/step - loss: 0.6630 - acc: 0.5092 - val_loss: 0.6525 - val_acc: 0.4870\n",
      "Epoch 94/100\n",
      "11541/11541 [==============================] - 0s 16us/step - loss: 0.6636 - acc: 0.5073 - val_loss: 0.6493 - val_acc: 0.5276\n",
      "Epoch 95/100\n",
      "11541/11541 [==============================] - 0s 16us/step - loss: 0.6632 - acc: 0.5136 - val_loss: 0.6547 - val_acc: 0.5175\n",
      "Epoch 96/100\n",
      "11541/11541 [==============================] - 0s 16us/step - loss: 0.6668 - acc: 0.5093 - val_loss: 0.6508 - val_acc: 0.5154\n",
      "Epoch 97/100\n",
      "11541/11541 [==============================] - 0s 15us/step - loss: 0.6635 - acc: 0.5164 - val_loss: 0.6521 - val_acc: 0.5082\n",
      "Epoch 98/100\n",
      "11541/11541 [==============================] - 0s 16us/step - loss: 0.6629 - acc: 0.5168 - val_loss: 0.6495 - val_acc: 0.5258\n",
      "Epoch 99/100\n",
      "11541/11541 [==============================] - 0s 15us/step - loss: 0.6607 - acc: 0.5169 - val_loss: 0.6511 - val_acc: 0.5029\n",
      "Epoch 100/100\n",
      "11541/11541 [==============================] - 0s 15us/step - loss: 0.6652 - acc: 0.5084 - val_loss: 0.6493 - val_acc: 0.5179\n"
     ]
    }
   ],
   "source": [
    "autoencoder.compile(metrics=['accuracy'],\n",
    "                    loss='mean_squared_error',\n",
    "                    optimizer='adam')\n",
    "\n",
    "cp = ModelCheckpoint(filepath=\"autoencoder_classifier.h5\",\n",
    "                               save_best_only=True,\n",
    "                               verbose=0)\n",
    "\n",
    "tb = TensorBoard(log_dir='./logs',\n",
    "                histogram_freq=0,\n",
    "                write_graph=True,\n",
    "                write_images=True)\n",
    "\n",
    "history = autoencoder.fit(df_train_0_x_rescaled, df_train_0_x_rescaled,\n",
    "                    epochs=nb_epoch,\n",
    "                    batch_size=batch_size,\n",
    "                    shuffle=True,\n",
    "                    validation_data=(df_valid_0_x_rescaled, df_valid_0_x_rescaled),\n",
    "                    verbose=1,\n",
    "                    callbacks=[cp, tb]).history"
   ]
  },
  {
   "cell_type": "code",
   "execution_count": 21,
   "metadata": {},
   "outputs": [],
   "source": [
    "autoencoder = load_model('autoencoder_classifier.h5')"
   ]
  },
  {
   "cell_type": "code",
   "execution_count": 26,
   "metadata": {},
   "outputs": [
    {
     "data": {
      "image/png": "[encoded data removed]",
      "text/plain": [
       "<Figure size 432x288 with 1 Axes>"
      ]
     },
     "metadata": {
      "needs_background": "light"
     },
     "output_type": "display_data"
    }
   ],
   "source": [
    "plt.plot(history['loss'], linewidth=2, label='Train')\n",
    "plt.plot(history['val_loss'], linewidth=2, label='Valid')\n",
    "plt.legend(loc='upper right')\n",
    "plt.title('Model loss')\n",
    "plt.ylabel('Loss')\n",
    "plt.xlabel('Epoch')\n",
    "plt.show()"
   ]
  },
  {
   "cell_type": "code",
   "execution_count": 28,
   "metadata": {},
   "outputs": [],
   "source": [
    "from sklearn.metrics import confusion_matrix, precision_recall_curve\n",
    "from sklearn.metrics import recall_score, classification_report, auc, roc_curve\n",
    "from sklearn.metrics import precision_recall_fscore_support, f1_score"
   ]
  },
  {
   "cell_type": "code",
   "execution_count": 29,
   "metadata": {},
   "outputs": [],
   "source": [
    "valid_x_predictions = autoencoder.predict(df_valid_x_rescaled)"
   ]
  },
  {
   "cell_type": "code",
   "execution_count": 30,
   "metadata": {},
   "outputs": [],
   "source": [
    "mse = np.mean(np.power(df_valid_x_rescaled - valid_x_predictions, 2), axis=1)"
   ]
  },
  {
   "cell_type": "code",
   "execution_count": 34,
   "metadata": {},
   "outputs": [
    {
     "data": {
      "text/html": [
       "<div>\n",
       "<style scoped>\n",
       "    .dataframe tbody tr th:only-of-type {\n",
       "        vertical-align: middle;\n",
       "    }\n",
       "\n",
       "    .dataframe tbody tr th {\n",
       "        vertical-align: top;\n",
       "    }\n",
       "\n",
       "    .dataframe thead th {\n",
       "        text-align: right;\n",
       "    }\n",
       "</style>\n",
       "<table border=\"1\" class=\"dataframe\">\n",
       "  <thead>\n",
       "    <tr style=\"text-align: right;\">\n",
       "      <th></th>\n",
       "      <th>Reconstruction_error</th>\n",
       "      <th>True_class</th>\n",
       "    </tr>\n",
       "  </thead>\n",
       "  <tbody>\n",
       "    <tr>\n",
       "      <th>2587</th>\n",
       "      <td>0.406427</td>\n",
       "      <td>0.0</td>\n",
       "    </tr>\n",
       "    <tr>\n",
       "      <th>10042</th>\n",
       "      <td>0.444691</td>\n",
       "      <td>0.0</td>\n",
       "    </tr>\n",
       "    <tr>\n",
       "      <th>18333</th>\n",
       "      <td>0.464381</td>\n",
       "      <td>0.0</td>\n",
       "    </tr>\n",
       "    <tr>\n",
       "      <th>14917</th>\n",
       "      <td>0.894546</td>\n",
       "      <td>0.0</td>\n",
       "    </tr>\n",
       "    <tr>\n",
       "      <th>15653</th>\n",
       "      <td>1.040202</td>\n",
       "      <td>0.0</td>\n",
       "    </tr>\n",
       "  </tbody>\n",
       "</table>\n",
       "</div>"
      ],
      "text/plain": [
       "       Reconstruction_error  True_class\n",
       "2587               0.406427         0.0\n",
       "10042              0.444691         0.0\n",
       "18333              0.464381         0.0\n",
       "14917              0.894546         0.0\n",
       "15653              1.040202         0.0"
      ]
     },
     "metadata": {},
     "output_type": "display_data"
    }
   ],
   "source": [
    "error_df = pd.DataFrame({'Reconstruction_error': mse,'True_class': df_valid['y']})\n",
    "display(error_df.head())"
   ]
  },
  {
   "cell_type": "code",
   "execution_count": 35,
   "metadata": {
    "scrolled": true
   },
   "outputs": [
    {
     "data": {
      "image/png": "[encoded data removed]",
      "text/plain": [
       "<Figure size 432x288 with 1 Axes>"
      ]
     },
     "metadata": {
      "needs_background": "light"
     },
     "output_type": "display_data"
    }
   ],
   "source": [
    "precision_rt, recall_rt, threshold_rt = precision_recall_curve(error_df.True_class, error_df.Reconstruction_error)\n",
    "plt.plot(threshold_rt, precision_rt[1:], label=\"Precision\",linewidth=5)\n",
    "plt.plot(threshold_rt, recall_rt[1:], label=\"Recall\",linewidth=5)\n",
    "plt.title('Precision and recall for different threshold values')\n",
    "plt.xlabel('Threshold')\n",
    "plt.ylabel('Precision/Recall')\n",
    "plt.legend()\n",
    "plt.show()"
   ]
  },
  {
   "cell_type": "code",
   "execution_count": 37,
   "metadata": {},
   "outputs": [
    {
     "data": {
      "text/html": [
       "<div>\n",
       "<style scoped>\n",
       "    .dataframe tbody tr th:only-of-type {\n",
       "        vertical-align: middle;\n",
       "    }\n",
       "\n",
       "    .dataframe tbody tr th {\n",
       "        vertical-align: top;\n",
       "    }\n",
       "\n",
       "    .dataframe thead th {\n",
       "        text-align: right;\n",
       "    }\n",
       "</style>\n",
       "<table border=\"1\" class=\"dataframe\">\n",
       "  <thead>\n",
       "    <tr style=\"text-align: right;\">\n",
       "      <th></th>\n",
       "      <th>index</th>\n",
       "      <th>Reconstruction_error</th>\n",
       "      <th>True_class</th>\n",
       "    </tr>\n",
       "  </thead>\n",
       "  <tbody>\n",
       "    <tr>\n",
       "      <th>0</th>\n",
       "      <td>9735</td>\n",
       "      <td>0.449444</td>\n",
       "      <td>0.0</td>\n",
       "    </tr>\n",
       "    <tr>\n",
       "      <th>1</th>\n",
       "      <td>1997</td>\n",
       "      <td>0.536001</td>\n",
       "      <td>0.0</td>\n",
       "    </tr>\n",
       "    <tr>\n",
       "      <th>2</th>\n",
       "      <td>4121</td>\n",
       "      <td>0.377074</td>\n",
       "      <td>0.0</td>\n",
       "    </tr>\n",
       "    <tr>\n",
       "      <th>3</th>\n",
       "      <td>1888</td>\n",
       "      <td>0.628920</td>\n",
       "      <td>0.0</td>\n",
       "    </tr>\n",
       "    <tr>\n",
       "      <th>4</th>\n",
       "      <td>4040</td>\n",
       "      <td>0.564059</td>\n",
       "      <td>0.0</td>\n",
       "    </tr>\n",
       "  </tbody>\n",
       "</table>\n",
       "</div>"
      ],
      "text/plain": [
       "   index  Reconstruction_error  True_class\n",
       "0   9735              0.449444         0.0\n",
       "1   1997              0.536001         0.0\n",
       "2   4121              0.377074         0.0\n",
       "3   1888              0.628920         0.0\n",
       "4   4040              0.564059         0.0"
      ]
     },
     "execution_count": 37,
     "metadata": {},
     "output_type": "execute_result"
    }
   ],
   "source": [
    "test_x_predictions = autoencoder.predict(df_test_x_rescaled)\n",
    "mse = np.mean(np.power(df_test_x_rescaled - test_x_predictions, 2), axis=1)\n",
    "error_df_test = pd.DataFrame({'Reconstruction_error': mse,\n",
    "                        'True_class': df_test['y']})\n",
    "error_df_test = error_df_test.reset_index()\n",
    "error_df_test.head()"
   ]
  },
  {
   "cell_type": "code",
   "execution_count": 38,
   "metadata": {},
   "outputs": [
    {
     "data": {
      "image/png": "[encoded data removed]",
      "text/plain": [
       "<Figure size 432x288 with 1 Axes>"
      ]
     },
     "metadata": {
      "needs_background": "light"
     },
     "output_type": "display_data"
    }
   ],
   "source": [
    "threshold_fixed = 0.85\n",
    "groups = error_df_test.groupby('True_class')\n",
    "fig, ax = plt.subplots()\n",
    "for name, group in groups:\n",
    "    ax.plot(group.index, group.Reconstruction_error, marker='o', ms=3.5, linestyle='',\n",
    "            label= \"Break\" if name == 1 else \"Normal\")\n",
    "ax.hlines(threshold_fixed, ax.get_xlim()[0], ax.get_xlim()[1], colors=\"r\", zorder=100, label='Threshold')\n",
    "ax.legend()\n",
    "plt.title(\"Reconstruction error for different classes\")\n",
    "plt.ylabel(\"Reconstruction error\")\n",
    "plt.xlabel(\"Data point index\")\n",
    "plt.show();"
   ]
  },
  {
   "cell_type": "code",
   "execution_count": 42,
   "metadata": {},
   "outputs": [],
   "source": [
    "pred_y = [1 if e > threshold_fixed else 0 for e in error_df.Reconstruction_error.values]"
   ]
  },
  {
   "cell_type": "code",
   "execution_count": 43,
   "metadata": {},
   "outputs": [],
   "source": [
    "predictions = pd.DataFrame({'true': error_df.True_class,\n",
    "                           'predicted': pred_y})"
   ]
  },
  {
   "cell_type": "code",
   "execution_count": 46,
   "metadata": {},
   "outputs": [
    {
     "data": {
      "image/png": "[encoded data removed]",
      "text/plain": [
       "<Figure size 576x576 with 2 Axes>"
      ]
     },
     "metadata": {
      "needs_background": "light"
     },
     "output_type": "display_data"
    }
   ],
   "source": [
    "import seaborn as sns\n",
    "#rcParams['figure.figsize'] = 8, 6\n",
    "LABELS = [\"Normal\",\"Break\"]\n",
    "conf_matrix = confusion_matrix(error_df.True_class, pred_y)\n",
    "plt.figure(figsize=(8, 8))\n",
    "sns.heatmap(conf_matrix, xticklabels=LABELS, yticklabels=LABELS, annot=True, fmt=\"d\");\n",
    "plt.title(\"Confusion matrix\")\n",
    "plt.ylabel('True class')\n",
    "plt.xlabel('Predicted class')\n",
    "plt.show()"
   ]
  },
  {
   "cell_type": "code",
   "execution_count": 48,
   "metadata": {},
   "outputs": [
    {
     "data": {
      "image/png": "[encoded data removed]",
      "text/plain": [
       "<Figure size 432x288 with 1 Axes>"
      ]
     },
     "metadata": {
      "needs_background": "light"
     },
     "output_type": "display_data"
    }
   ],
   "source": [
    "false_pos_rate, true_pos_rate, thresholds = roc_curve(error_df.True_class, error_df.Reconstruction_error)\n",
    "roc_auc = auc(false_pos_rate, true_pos_rate,)\n",
    "plt.plot(false_pos_rate, true_pos_rate, linewidth=5, label='AUC = %0.3f'% roc_auc)\n",
    "plt.plot([0,1],[0,1], linewidth=5)\n",
    "plt.xlim([-0.01, 1])\n",
    "plt.ylim([0, 1.01])\n",
    "plt.legend(loc='lower right')\n",
    "plt.title('Receiver operating characteristic curve (ROC)')\n",
    "plt.ylabel('True Positive Rate')\n",
    "plt.xlabel('False Positive Rate')\n",
    "plt.show()"
   ]
  }
 ],
 "metadata": {
  "kernelspec": {
   "display_name": "Python 3",
   "language": "python",
   "name": "python3"
  },
  "language_info": {
   "codemirror_mode": {
    "name": "ipython",
    "version": 3
   },
   "file_extension": ".py",
   "mimetype": "text/x-python",
   "name": "python",
   "nbconvert_exporter": "python",
   "pygments_lexer": "ipython3",
   "version": "3.7.0"
  }
 },
 "nbformat": 4,
 "nbformat_minor": 2
}
